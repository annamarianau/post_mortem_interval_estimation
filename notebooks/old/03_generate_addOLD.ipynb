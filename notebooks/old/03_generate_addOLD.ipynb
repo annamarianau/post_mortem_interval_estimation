{
 "cells": [
  {
   "cell_type": "code",
   "execution_count": 1,
   "metadata": {},
   "outputs": [],
   "source": [
    "import pandas as pd\n",
    "import numpy as np\n",
    "import matplotlib.pyplot as plt\n",
    "%matplotlib inline\n",
    "import datetime\n",
    "\n",
    "pd.set_option('display.max_rows', None)\n",
    "pd.set_option('display.max_columns', None)\n",
    "pd.set_option('max_colwidth', 700)"
   ]
  },
  {
   "cell_type": "markdown",
   "metadata": {},
   "source": [
    "This notebook calculates accumulated degree days (ADD) per image. Will begin with a temp. threshold of 0 deg. C.\n",
    "E.g. Given a donor who has been dead for 4 days with avg. daily temps. of 4, -1, 3, and 4, the ADD = 4+3+4 = 11 deg. C.\n",
    "\n",
    "Note:\n",
    "- Temp. values are in degree Celcius.\n",
    "- Hum. values, relative humidity, are expressed as a percent that represents the amount of water vapor in the air at a given temperature compared to the max possible water vapor amount at that same temperature. For instance, relative humidity of 25 percent means that air is at a quarter of its possible water vapor capacity."
   ]
  },
  {
   "cell_type": "markdown",
   "metadata": {},
   "source": [
    "# Import PMI labeled data"
   ]
  },
  {
   "cell_type": "code",
   "execution_count": null,
   "metadata": {},
   "outputs": [],
   "source": [
    "# import SOD-labeled data\n",
    "df_pmi_sod = pd.read_csv('../data/img_PMIs_no_negs.csv')[['path', 'label', 'old_date', 'date_placed_ARF', 'img_pmi_days']]\n",
    "display(df_pmi_sod.head())\n",
    "print(df_pmi_sod.shape)"
   ]
  },
  {
   "cell_type": "code",
   "execution_count": null,
   "metadata": {},
   "outputs": [],
   "source": [
    "# convert dtypes\n",
    "df_pmi_sod['old_date'] = pd.to_datetime(df_pmi_sod['old_date'], format='%Y-%m-%d', errors='coerce')\n",
    "df_pmi_sod['date_placed_ARF'] = pd.to_datetime(df_pmi_sod['date_placed_ARF'], format='%Y-%m-%d', errors='coerce')\n",
    "df_pmi_sod.info()"
   ]
  },
  {
   "cell_type": "markdown",
   "metadata": {},
   "source": [
    "# Import tinytag temp/hum data"
   ]
  },
  {
   "cell_type": "code",
   "execution_count": null,
   "metadata": {},
   "outputs": [],
   "source": [
    "df_tinyt = pd.read_csv('/data/anau/temp_humidity_data/data/all_temp_hum_processed').sort_values(['date', 'time'])\n",
    "display(df_tinyt.head())\n",
    "print(df_tinyt.shape)\n",
    "display(df_tinyt.info())"
   ]
  },
  {
   "cell_type": "code",
   "execution_count": null,
   "metadata": {},
   "outputs": [],
   "source": [
    "# convert dtypes\n",
    "df_tinyt['date'] = pd.to_datetime(df_tinyt['date'], format='%Y-%m-%d', errors='coerce')\n",
    "df_tinyt.info()"
   ]
  },
  {
   "cell_type": "code",
   "execution_count": null,
   "metadata": {},
   "outputs": [],
   "source": [
    "# groupby date to calulate daily avg. temp/hum\n",
    "df_tinyt_daily_avg = df_tinyt.groupby('date')[['temp_C', 'hum_RH']].mean().reset_index()\n",
    "display(df_tinyt_daily_avg.head())\n",
    "print(df_tinyt_daily_avg.shape)\n",
    "print(df_tinyt_daily_avg.date.nunique())\n",
    "display(df_tinyt_daily_avg.describe(datetime_is_numeric=True))\n",
    "df_tinyt_daily_avg.info()"
   ]
  },
  {
   "cell_type": "code",
   "execution_count": null,
   "metadata": {},
   "outputs": [],
   "source": [
    "# check time range of data to see what missing and will need to be filled\n",
    "print(df_tinyt_daily_avg.date.dt.year.unique())\n",
    "\n",
    "print('2014:', df_tinyt_daily_avg[df_tinyt_daily_avg.date.dt.year == 2014].date.dt.month.unique())\n",
    "print('2015:',df_tinyt_daily_avg[df_tinyt_daily_avg.date.dt.year == 2015].date.dt.month.unique())\n",
    "print('2016:',df_tinyt_daily_avg[df_tinyt_daily_avg.date.dt.year == 2016].date.dt.month.unique())\n",
    "print('2017:',df_tinyt_daily_avg[df_tinyt_daily_avg.date.dt.year == 2017].date.dt.month.unique())\n",
    "print('2019:',df_tinyt_daily_avg[df_tinyt_daily_avg.date.dt.year == 2019].date.dt.month.unique())\n",
    "print('2020:',df_tinyt_daily_avg[df_tinyt_daily_avg.date.dt.year == 2020].date.dt.month.unique())\n",
    "print('2021:',df_tinyt_daily_avg[df_tinyt_daily_avg.date.dt.year == 2021].date.dt.month.unique())"
   ]
  },
  {
   "cell_type": "code",
   "execution_count": null,
   "metadata": {},
   "outputs": [],
   "source": [
    "# add source column\n",
    "df_tinyt_daily_avg['source'] = 'tinytag'\n",
    "display(df_tinyt_daily_avg.head())\n",
    "df_tinyt_daily_avg.shape"
   ]
  },
  {
   "cell_type": "markdown",
   "metadata": {},
   "source": [
    "# Import LCD daily avg. temp/hum data to fill in the gaps\n",
    "This data has been preprocessed in ../temp_humidity_data/."
   ]
  },
  {
   "cell_type": "code",
   "execution_count": null,
   "metadata": {},
   "outputs": [],
   "source": [
    "df_lcd_daily_avg = pd.read_pickle('../temp_humidity_data/data/LCD/lcd_daily_avg.pkl')\n",
    "display(df_lcd_daily_avg.head())\n",
    "display(df_lcd_daily_avg.info())\n",
    "df_lcd_daily_avg.shape"
   ]
  },
  {
   "cell_type": "code",
   "execution_count": null,
   "metadata": {},
   "outputs": [],
   "source": [
    "# add source column\n",
    "df_lcd_daily_avg['source'] = 'lcd'\n",
    "display(df_lcd_daily_avg.head())"
   ]
  },
  {
   "cell_type": "markdown",
   "metadata": {},
   "source": [
    "# Merge Tinytag and LCD data\n",
    "Fill in gaps of Tinytag temp/hum data with LCD temp/hum data"
   ]
  },
  {
   "cell_type": "code",
   "execution_count": null,
   "metadata": {},
   "outputs": [],
   "source": [
    "print(df_tinyt_daily_avg.dtypes)\n",
    "print(df_lcd_daily_avg.dtypes)"
   ]
  },
  {
   "cell_type": "code",
   "execution_count": null,
   "metadata": {},
   "outputs": [],
   "source": [
    "# outer join on date column\n",
    "df_temp_hum_merged = pd.merge(df_tinyt_daily_avg, df_lcd_daily_avg, on='date', how='outer')\n",
    "print(df_temp_hum_merged.shape)\n",
    "df_temp_hum_merged.sort_values('date', inplace=True)\n",
    "display(df_temp_hum_merged.head())"
   ]
  },
  {
   "cell_type": "code",
   "execution_count": null,
   "metadata": {},
   "outputs": [],
   "source": [
    "# create final temp and hum columns\n",
    "df_temp_hum_merged[\"final_temp\"] = np.where(df_temp_hum_merged[\"temp_C\"].isnull(), \n",
    "                            df_temp_hum_merged['HourlyDryBulbTemperature'], df_temp_hum_merged[\"temp_C\"])\n",
    "df_temp_hum_merged[\"final_hum\"] = np.where(df_temp_hum_merged[\"hum_RH\"].isnull(), \n",
    "                            df_temp_hum_merged['HourlyRelativeHumidity'], df_temp_hum_merged[\"hum_RH\"])\n",
    "df_temp_hum_merged[\"final_source\"] = np.where(df_temp_hum_merged[\"source_x\"].isnull(), \n",
    "                            df_temp_hum_merged['source_y'], df_temp_hum_merged[\"source_x\"])\n",
    "display(df_temp_hum_merged.head())\n",
    "display(df_temp_hum_merged.info())\n",
    "display(df_temp_hum_merged.describe(datetime_is_numeric=True))"
   ]
  },
  {
   "cell_type": "code",
   "execution_count": null,
   "metadata": {},
   "outputs": [],
   "source": [
    "# check time range of data make sure no gaps\n",
    "print(df_temp_hum_merged.date.dt.year.unique())\n",
    "\n",
    "print('2014:', df_temp_hum_merged[df_temp_hum_merged.date.dt.year == 2014].date.dt.month.unique())\n",
    "print('2015:',df_temp_hum_merged[df_temp_hum_merged.date.dt.year == 2015].date.dt.month.unique())\n",
    "print('2016:',df_temp_hum_merged[df_temp_hum_merged.date.dt.year == 2016].date.dt.month.unique())\n",
    "print('2017:',df_temp_hum_merged[df_temp_hum_merged.date.dt.year == 2017].date.dt.month.unique())\n",
    "print('2019:',df_temp_hum_merged[df_temp_hum_merged.date.dt.year == 2019].date.dt.month.unique())\n",
    "print('2020:',df_temp_hum_merged[df_temp_hum_merged.date.dt.year == 2020].date.dt.month.unique())\n",
    "print('2021:',df_temp_hum_merged[df_temp_hum_merged.date.dt.year == 2021].date.dt.month.unique())"
   ]
  },
  {
   "cell_type": "code",
   "execution_count": null,
   "metadata": {},
   "outputs": [],
   "source": [
    "ax = plt.gca() \n",
    "df_temp_hum_merged.plot( x = 'date' , y = 'final_temp', ax = ax)"
   ]
  },
  {
   "cell_type": "markdown",
   "metadata": {},
   "source": [
    "# Calculate ADD"
   ]
  },
  {
   "cell_type": "code",
   "execution_count": null,
   "metadata": {},
   "outputs": [],
   "source": [
    "df_dict = df_pmi_sod.to_dict('records')\n",
    "for row in df_dict:\n",
    "    placement_date = row['date_placed_ARF']\n",
    "    img_date = row['old_date']\n",
    "    \n",
    "    add = 0\n",
    "    start_date = placement_date\n",
    "    while (start_date <= img_date):\n",
    "        temp = df_temp_hum_merged[df_temp_hum_merged.date == start_date]['final_temp'].values[0]\n",
    "        if temp < 0:\n",
    "            temp = 0\n",
    "        \n",
    "        add += temp\n",
    "        start_date += datetime.timedelta(days=1)\n",
    "        print('date:'+str(start_date)+', temp:'+str(temp)+ ', add:'+str(add),  end=\"\\n\")\n",
    "    row['add'] = add\n",
    "    print()"
   ]
  },
  {
   "cell_type": "code",
   "execution_count": null,
   "metadata": {},
   "outputs": [],
   "source": [
    "df_pmi_sod_add = pd.DataFrame.from_dict(df_dict)"
   ]
  },
  {
   "cell_type": "code",
   "execution_count": 3,
   "metadata": {},
   "outputs": [
    {
     "data": {
      "text/html": [
       "<div>\n",
       "<style scoped>\n",
       "    .dataframe tbody tr th:only-of-type {\n",
       "        vertical-align: middle;\n",
       "    }\n",
       "\n",
       "    .dataframe tbody tr th {\n",
       "        vertical-align: top;\n",
       "    }\n",
       "\n",
       "    .dataframe thead th {\n",
       "        text-align: right;\n",
       "    }\n",
       "</style>\n",
       "<table border=\"1\" class=\"dataframe\">\n",
       "  <thead>\n",
       "    <tr style=\"text-align: right;\">\n",
       "      <th></th>\n",
       "      <th>path</th>\n",
       "      <th>label</th>\n",
       "      <th>old_date</th>\n",
       "      <th>date_placed_ARF</th>\n",
       "      <th>img_pmi_days</th>\n",
       "      <th>add</th>\n",
       "    </tr>\n",
       "  </thead>\n",
       "  <tbody>\n",
       "    <tr>\n",
       "      <th>0</th>\n",
       "      <td>/da1_data/icputrd/arf/mean.js/public/anau_img3/000/00000122.08.JPG</td>\n",
       "      <td>2</td>\n",
       "      <td>2018-01-22</td>\n",
       "      <td>2018-01-21</td>\n",
       "      <td>1.0</td>\n",
       "      <td>18.969456</td>\n",
       "    </tr>\n",
       "    <tr>\n",
       "      <th>1</th>\n",
       "      <td>/da1_data/icputrd/arf/mean.js/public/anau_img3/000/00000129.14.JPG</td>\n",
       "      <td>2</td>\n",
       "      <td>2018-01-29</td>\n",
       "      <td>2018-01-21</td>\n",
       "      <td>8.0</td>\n",
       "      <td>64.144508</td>\n",
       "    </tr>\n",
       "    <tr>\n",
       "      <th>2</th>\n",
       "      <td>/da1_data/icputrd/arf/mean.js/public/anau_img3/000/00000213.21.JPG</td>\n",
       "      <td>2</td>\n",
       "      <td>2018-02-13</td>\n",
       "      <td>2018-01-21</td>\n",
       "      <td>23.0</td>\n",
       "      <td>133.226682</td>\n",
       "    </tr>\n",
       "    <tr>\n",
       "      <th>3</th>\n",
       "      <td>/da1_data/icputrd/arf/mean.js/public/anau_img3/000/00000219.07.JPG</td>\n",
       "      <td>3</td>\n",
       "      <td>2018-02-19</td>\n",
       "      <td>2018-01-21</td>\n",
       "      <td>29.0</td>\n",
       "      <td>210.208472</td>\n",
       "    </tr>\n",
       "    <tr>\n",
       "      <th>4</th>\n",
       "      <td>/da1_data/icputrd/arf/mean.js/public/anau_img3/000/00000222.08.JPG</td>\n",
       "      <td>3</td>\n",
       "      <td>2018-02-22</td>\n",
       "      <td>2018-01-21</td>\n",
       "      <td>32.0</td>\n",
       "      <td>271.839059</td>\n",
       "    </tr>\n",
       "  </tbody>\n",
       "</table>\n",
       "</div>"
      ],
      "text/plain": [
       "                                                                 path  label  \\\n",
       "0  /da1_data/icputrd/arf/mean.js/public/anau_img3/000/00000122.08.JPG      2   \n",
       "1  /da1_data/icputrd/arf/mean.js/public/anau_img3/000/00000129.14.JPG      2   \n",
       "2  /da1_data/icputrd/arf/mean.js/public/anau_img3/000/00000213.21.JPG      2   \n",
       "3  /da1_data/icputrd/arf/mean.js/public/anau_img3/000/00000219.07.JPG      3   \n",
       "4  /da1_data/icputrd/arf/mean.js/public/anau_img3/000/00000222.08.JPG      3   \n",
       "\n",
       "    old_date date_placed_ARF  img_pmi_days         add  \n",
       "0 2018-01-22      2018-01-21           1.0   18.969456  \n",
       "1 2018-01-29      2018-01-21           8.0   64.144508  \n",
       "2 2018-02-13      2018-01-21          23.0  133.226682  \n",
       "3 2018-02-19      2018-01-21          29.0  210.208472  \n",
       "4 2018-02-22      2018-01-21          32.0  271.839059  "
      ]
     },
     "metadata": {},
     "output_type": "display_data"
    },
    {
     "name": "stdout",
     "output_type": "stream",
     "text": [
      "(3417, 6)\n"
     ]
    }
   ],
   "source": [
    "df_pmi_sod_add = pd.read_pickle('../data/head/df_pmi_sod_add')\n",
    "display(df_pmi_sod_add.head())\n",
    "print(df_pmi_sod_add.shape)"
   ]
  },
  {
   "cell_type": "code",
   "execution_count": 4,
   "metadata": {},
   "outputs": [
    {
     "data": {
      "text/html": [
       "<div>\n",
       "<style scoped>\n",
       "    .dataframe tbody tr th:only-of-type {\n",
       "        vertical-align: middle;\n",
       "    }\n",
       "\n",
       "    .dataframe tbody tr th {\n",
       "        vertical-align: top;\n",
       "    }\n",
       "\n",
       "    .dataframe thead th {\n",
       "        text-align: right;\n",
       "    }\n",
       "</style>\n",
       "<table border=\"1\" class=\"dataframe\">\n",
       "  <thead>\n",
       "    <tr style=\"text-align: right;\">\n",
       "      <th></th>\n",
       "      <th>label</th>\n",
       "      <th>img_pmi_days</th>\n",
       "      <th>add</th>\n",
       "    </tr>\n",
       "  </thead>\n",
       "  <tbody>\n",
       "    <tr>\n",
       "      <th>count</th>\n",
       "      <td>3417.000000</td>\n",
       "      <td>3417.000000</td>\n",
       "      <td>3417.000000</td>\n",
       "    </tr>\n",
       "    <tr>\n",
       "      <th>mean</th>\n",
       "      <td>2.544337</td>\n",
       "      <td>40.611062</td>\n",
       "      <td>572.157320</td>\n",
       "    </tr>\n",
       "    <tr>\n",
       "      <th>std</th>\n",
       "      <td>1.009256</td>\n",
       "      <td>54.210218</td>\n",
       "      <td>826.716138</td>\n",
       "    </tr>\n",
       "    <tr>\n",
       "      <th>min</th>\n",
       "      <td>1.000000</td>\n",
       "      <td>0.000000</td>\n",
       "      <td>0.000000</td>\n",
       "    </tr>\n",
       "    <tr>\n",
       "      <th>25%</th>\n",
       "      <td>2.000000</td>\n",
       "      <td>10.000000</td>\n",
       "      <td>130.768497</td>\n",
       "    </tr>\n",
       "    <tr>\n",
       "      <th>50%</th>\n",
       "      <td>2.000000</td>\n",
       "      <td>27.000000</td>\n",
       "      <td>364.404999</td>\n",
       "    </tr>\n",
       "    <tr>\n",
       "      <th>75%</th>\n",
       "      <td>3.000000</td>\n",
       "      <td>54.000000</td>\n",
       "      <td>683.799106</td>\n",
       "    </tr>\n",
       "    <tr>\n",
       "      <th>max</th>\n",
       "      <td>4.000000</td>\n",
       "      <td>802.000000</td>\n",
       "      <td>12268.918347</td>\n",
       "    </tr>\n",
       "  </tbody>\n",
       "</table>\n",
       "</div>"
      ],
      "text/plain": [
       "             label  img_pmi_days           add\n",
       "count  3417.000000   3417.000000   3417.000000\n",
       "mean      2.544337     40.611062    572.157320\n",
       "std       1.009256     54.210218    826.716138\n",
       "min       1.000000      0.000000      0.000000\n",
       "25%       2.000000     10.000000    130.768497\n",
       "50%       2.000000     27.000000    364.404999\n",
       "75%       3.000000     54.000000    683.799106\n",
       "max       4.000000    802.000000  12268.918347"
      ]
     },
     "execution_count": 4,
     "metadata": {},
     "output_type": "execute_result"
    }
   ],
   "source": [
    "df_pmi_sod_add.describe()"
   ]
  },
  {
   "cell_type": "markdown",
   "metadata": {},
   "source": [
    "# Correlation between SOD and ADD"
   ]
  },
  {
   "cell_type": "code",
   "execution_count": 4,
   "metadata": {},
   "outputs": [
    {
     "data": {
      "text/plain": [
       "0.632152657867109"
      ]
     },
     "execution_count": 4,
     "metadata": {},
     "output_type": "execute_result"
    }
   ],
   "source": [
    "# correlation using all quartiles\n",
    "df_pmi_sod_add['label'].corr(np.log10(df_pmi_sod_add['add']+1*(10**-4)))"
   ]
  },
  {
   "cell_type": "code",
   "execution_count": 5,
   "metadata": {},
   "outputs": [
    {
     "name": "stdout",
     "output_type": "stream",
     "text": [
      "(518, 6)\n",
      "(1319, 6)\n",
      "(782, 6)\n",
      "(798, 6)\n",
      "\n",
      "(397, 6)\n",
      "(997, 6)\n",
      "(589, 6)\n",
      "(598, 6)\n",
      "\n",
      "(2581, 6)\n"
     ]
    }
   ],
   "source": [
    "# split data by SOD\n",
    "df_add_one = df_pmi_sod_add[df_pmi_sod_add.label == 1]\n",
    "print(df_add_one.shape)\n",
    "df_add_two = df_pmi_sod_add[df_pmi_sod_add.label == 2]\n",
    "print(df_add_two.shape)\n",
    "df_add_three = df_pmi_sod_add[df_pmi_sod_add.label == 3]\n",
    "print(df_add_three.shape)\n",
    "df_add_four = df_pmi_sod_add[df_pmi_sod_add.label == 4]\n",
    "print(df_add_four.shape)\n",
    "print()\n",
    "# keep only 1-3 quartiles \n",
    "df_add_one = df_add_one[df_add_one.img_pmi_days <=3].copy()\n",
    "print(df_add_one.shape)\n",
    "df_add_two = df_add_two[df_add_two.img_pmi_days <=57].copy()\n",
    "print(df_add_two.shape)\n",
    "df_add_three = df_add_three[df_add_three.img_pmi_days <=58].copy()\n",
    "print(df_add_three.shape)\n",
    "df_add_four = df_add_four[df_add_four.img_pmi_days <= 67].copy()\n",
    "print(df_add_four.shape)\n",
    "print()\n",
    "# concat into one df\n",
    "df_add_sod_filtered = pd.concat([df_add_one, df_add_two, df_add_three, df_add_four])\n",
    "print(df_add_sod_filtered.shape)"
   ]
  },
  {
   "cell_type": "code",
   "execution_count": 6,
   "metadata": {},
   "outputs": [
    {
     "data": {
      "text/plain": [
       "0.6835916665491608"
      ]
     },
     "execution_count": 6,
     "metadata": {},
     "output_type": "execute_result"
    }
   ],
   "source": [
    "# correlation using 1-3 quartiles\n",
    "df_add_sod_filtered['label'].corr(np.log10(df_add_sod_filtered['add']+1*(10**-4)))"
   ]
  },
  {
   "cell_type": "code",
   "execution_count": 7,
   "metadata": {},
   "outputs": [
    {
     "data": {
      "text/plain": [
       "<AxesSubplot: xlabel='add', ylabel='label'>"
      ]
     },
     "execution_count": 7,
     "metadata": {},
     "output_type": "execute_result"
    },
    {
     "data": {
      "image/png": "[encoded data removed]",
      "text/plain": [
       "<Figure size 640x480 with 1 Axes>"
      ]
     },
     "metadata": {},
     "output_type": "display_data"
    }
   ],
   "source": [
    "df_add_sod_filtered.plot.scatter(x = 'add', y = 'label', s = 100)"
   ]
  },
  {
   "cell_type": "code",
   "execution_count": null,
   "metadata": {},
   "outputs": [],
   "source": []
  }
 ],
 "metadata": {
  "kernelspec": {
   "display_name": "Python 3",
   "language": "python",
   "name": "python3"
  },
  "language_info": {
   "codemirror_mode": {
    "name": "ipython",
    "version": 3
   },
   "file_extension": ".py",
   "mimetype": "text/x-python",
   "name": "python",
   "nbconvert_exporter": "python",
   "pygments_lexer": "ipython3",
   "version": "3.8.10"
  }
 },
 "nbformat": 4,
 "nbformat_minor": 2
}
