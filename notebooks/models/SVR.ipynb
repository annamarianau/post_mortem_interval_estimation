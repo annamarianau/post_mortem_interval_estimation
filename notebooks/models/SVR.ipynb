{
 "cells": [
  {
   "cell_type": "code",
   "execution_count": 3,
   "metadata": {},
   "outputs": [],
   "source": [
    "import pandas as pd\n",
    "import numpy as np\n",
    "from sklearn.model_selection import train_test_split, GridSearchCV\n",
    "from sklearn.svm import SVR\n",
    "from sklearn.metrics import mean_squared_error, r2_score\n",
    "from sklearn.preprocessing import StandardScaler"
   ]
  },
  {
   "cell_type": "markdown",
   "metadata": {},
   "source": [
    "# Import and process data"
   ]
  },
  {
   "cell_type": "code",
   "execution_count": null,
   "metadata": {},
   "outputs": [],
   "source": [
    "X_train = pd.read_pickle('../../data/Gelderman_SOD_cohort/...')\n",
    "y_train = pd.read_pickle('../../data/Gelderman_SOD_cohort/...')\n",
    "X_test = pd.read_pickle('../../data/Gelderman_SOD_cohort/...')\n",
    "y_test = pd.read_pickle('../../data/Gelderman_SOD_cohort/...')"
   ]
  },
  {
   "cell_type": "code",
   "execution_count": 10,
   "metadata": {},
   "outputs": [
    {
     "name": "stdout",
     "output_type": "stream",
     "text": [
      "121 121 53 53\n"
     ]
    }
   ],
   "source": [
    "print(len(X_train), len(y_train), len(X_test), len(y_test))"
   ]
  },
  {
   "cell_type": "markdown",
   "metadata": {},
   "source": [
    "### Scale data\n",
    "Since SVR is a distance-based algorithm, scaling is an important preprocessing step that can improve the accuracy and stability of the model. Specifically, all continuous features will be standarized. "
   ]
  },
  {
   "cell_type": "code",
   "execution_count": null,
   "metadata": {},
   "outputs": [],
   "source": [
    "# copy of datasets\n",
    "X_train_stand = X_train.copy()\n",
    "X_test_stand = X_test.copy()\n",
    "\n",
    "# numerical features\n",
    "num_cols = ['age_at_death', 'temp_1_3_mean', 'temp_1_3_std', 'hum_1_3_mean',\n",
    "       'hum_1_3_std', 'temp_4_7_mean', 'temp_4_7_std', 'hum_4_7_mean',\n",
    "       'hum_4_7_std', 'temp_8_21_mean', 'temp_8_21_std', 'hum_8_21_mean',\n",
    "       'hum_8_21_std', 'temp_22_56_mean', 'temp_22_56_std', 'hum_22_56_mean',\n",
    "       'hum_22_56_std', 'temp_57_154_mean', 'temp_57_154_std',\n",
    "       'hum_57_154_mean', 'hum_57_154_std']\n",
    "\n",
    "# apply standardization on numerical features\n",
    "for i in num_cols:\n",
    "    \n",
    "    # fit on training data column\n",
    "    scale = StandardScaler().fit(X_train_stand[[i]])\n",
    "    \n",
    "    # transform the training data column\n",
    "    X_train_stand[i] = scale.transform(X_train_stand[[i]])\n",
    "    \n",
    "    # transform the testing data column\n",
    "    X_test_stand[i] = scale.transform(X_test_stand[[i]])"
   ]
  },
  {
   "cell_type": "markdown",
   "metadata": {},
   "source": [
    "# Train model"
   ]
  },
  {
   "cell_type": "code",
   "execution_count": 19,
   "metadata": {},
   "outputs": [],
   "source": [
    "# define hyperparameter grid\n",
    "param_grid = {'kernel': ['linear', 'rbf', 'poly'],\n",
    "              'gamma': ['scale', 'auto', 1, 0.1, 0.01, 0.001, 0.0001], \n",
    "              'C': [0.1, 1, 10, 100, 1000]  \n",
    "             }"
   ]
  },
  {
   "cell_type": "code",
   "execution_count": null,
   "metadata": {},
   "outputs": [],
   "source": [
    "# initialize model \n",
    "svr = SVR(random_state=1, verbose=1)"
   ]
  },
  {
   "cell_type": "code",
   "execution_count": null,
   "metadata": {},
   "outputs": [],
   "source": [
    "# initialize GridSearchCV\n",
    "grid_search = GridSearchCV(estimator=svr, param_grid=param_grid, cv=5, n_jobs=-1)"
   ]
  },
  {
   "cell_type": "code",
   "execution_count": null,
   "metadata": {},
   "outputs": [],
   "source": [
    "# fit model\n",
    "grid_search.fit(X_train_stand, y_train)"
   ]
  },
  {
   "cell_type": "code",
   "execution_count": null,
   "metadata": {},
   "outputs": [],
   "source": [
    "# get best parameters and best estimator\n",
    "best_params = grid_search.best_params_\n",
    "best_svr = grid_search.best_estimator_\n",
    "\n",
    "print('Best hyperparameters are: '+str(best_params))\n",
    "print('Best score is: '+str(grid_search.best_score_))"
   ]
  },
  {
   "cell_type": "markdown",
   "metadata": {},
   "source": [
    "# Test model"
   ]
  },
  {
   "cell_type": "code",
   "execution_count": 16,
   "metadata": {},
   "outputs": [],
   "source": [
    "def evaluate(model, X_test, y_test):\n",
    "    # predict data\n",
    "    predictions = model.predict(X_test)\n",
    "    \n",
    "    # calculate evaluation metrics\n",
    "    oob_score = model.oob_score_  # estimates model's generalization performance\n",
    "    print(f'Out-of-Bag Score: {oob_score}')\n",
    "    \n",
    "    mse = mean_squared_error(y_test, predictions)\n",
    "    print(f'Mean Squared Error: {mse}')\n",
    "    \n",
    "    rmse = np.sqrt(mse)\n",
    "    print(\"Root Mean Squared Error (RMSE):\", rmse)\n",
    "    \n",
    "    r2 = r2_score(X_test, predictions)\n",
    "    print(f'R-squared: {r2}')"
   ]
  },
  {
   "cell_type": "code",
   "execution_count": null,
   "metadata": {},
   "outputs": [],
   "source": [
    "# evaluate best estimator\n",
    "evaluate(best_svr, X_test_stand, y_test)"
   ]
  }
 ],
 "metadata": {
  "kernelspec": {
   "display_name": "Python 3",
   "language": "python",
   "name": "python3"
  },
  "language_info": {
   "codemirror_mode": {
    "name": "ipython",
    "version": 3
   },
   "file_extension": ".py",
   "mimetype": "text/x-python",
   "name": "python",
   "nbconvert_exporter": "python",
   "pygments_lexer": "ipython3",
   "version": "3.8.10"
  }
 },
 "nbformat": 4,
 "nbformat_minor": 2
}
