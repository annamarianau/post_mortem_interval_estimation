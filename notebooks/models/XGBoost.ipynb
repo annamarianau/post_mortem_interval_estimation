{
 "cells": [
  {
   "cell_type": "code",
   "execution_count": 2,
   "metadata": {},
   "outputs": [],
   "source": [
    "import pandas as pd\n",
    "import numpy as np\n",
    "from sklearn.model_selection import train_test_split, GridSearchCV\n",
    "from sklearn.metrics import mean_squared_error, r2_score\n",
    "import xgboost as xg"
   ]
  },
  {
   "cell_type": "markdown",
   "metadata": {},
   "source": [
    "# Import and process data"
   ]
  },
  {
   "cell_type": "code",
   "execution_count": null,
   "metadata": {},
   "outputs": [],
   "source": [
    "X_train = pd.read_pickle('../../data/Gelderman_SOD_cohort/...')\n",
    "y_train = pd.read_pickle('../../data/Gelderman_SOD_cohort/...')\n",
    "X_test = pd.read_pickle('../../data/Gelderman_SOD_cohort/...')\n",
    "y_test = pd.read_pickle('../../data/Gelderman_SOD_cohort/...')"
   ]
  },
  {
   "cell_type": "code",
   "execution_count": 10,
   "metadata": {},
   "outputs": [
    {
     "name": "stdout",
     "output_type": "stream",
     "text": [
      "121 121 53 53\n"
     ]
    }
   ],
   "source": [
    "print(len(X_train), len(y_train), len(X_test), len(y_test))"
   ]
  },
  {
   "cell_type": "markdown",
   "metadata": {},
   "source": [
    "# Train model"
   ]
  },
  {
   "cell_type": "code",
   "execution_count": 19,
   "metadata": {},
   "outputs": [],
   "source": [
    "# define hyperparameter grid\n",
    "param_grid = {'n_estimators': 10, 25, 50, 100, 150],\n",
    "              'max_depth': [None, 5,10,20,30,40,50],\n",
    "              'subsample': [0.8, 1.0],\n",
    "              'colsample_bytree': [0.8, 1.0],\n",
    "        }"
   ]
  },
  {
   "cell_type": "code",
   "execution_count": null,
   "metadata": {},
   "outputs": [],
   "source": [
    "# initialize model \n",
    "xgb = xg.XGBRegressor(random_state=1, verbose=1)"
   ]
  },
  {
   "cell_type": "code",
   "execution_count": null,
   "metadata": {},
   "outputs": [],
   "source": [
    "# initialize GridSearchCV\n",
    "grid_search = GridSearchCV(estimator=xgb, param_grid=param_grid, cv=5, n_jobs=-1)"
   ]
  },
  {
   "cell_type": "code",
   "execution_count": null,
   "metadata": {},
   "outputs": [],
   "source": [
    "# fit model\n",
    "grid_search.fit(X_train, y_train)"
   ]
  },
  {
   "cell_type": "code",
   "execution_count": null,
   "metadata": {},
   "outputs": [],
   "source": [
    "# get best parameters and best estimator\n",
    "best_params = grid_search.best_params_\n",
    "best_xgb = grid_search.best_estimator_\n",
    "\n",
    "print('Best hyperparameters are: '+str(best_params))\n",
    "print('Best score is: '+str(grid_search.best_score_))"
   ]
  },
  {
   "cell_type": "markdown",
   "metadata": {},
   "source": [
    "# Test model"
   ]
  },
  {
   "cell_type": "code",
   "execution_count": 16,
   "metadata": {},
   "outputs": [],
   "source": [
    "def evaluate(model, X_test, y_test):\n",
    "    # predict data\n",
    "    predictions = model.predict(X_test)\n",
    "    \n",
    "    # calculate evaluation metrics\n",
    "    oob_score = model.oob_score_  # estimates model's generalization performance\n",
    "    print(f'Out-of-Bag Score: {oob_score}')\n",
    "    \n",
    "    mse = mean_squared_error(y_test, predictions)\n",
    "    print(f'Mean Squared Error: {mse}')\n",
    "    \n",
    "    rmse = np.sqrt(mse)\n",
    "    print(\"Root Mean Squared Error (RMSE):\", rmse)\n",
    "    \n",
    "    r2 = r2_score(X_test, predictions)\n",
    "    print(f'R-squared: {r2}')"
   ]
  },
  {
   "cell_type": "code",
   "execution_count": null,
   "metadata": {},
   "outputs": [],
   "source": [
    "# evaluate best estimator\n",
    "evaluate(best_xgb, X_test, y_test)"
   ]
  }
 ],
 "metadata": {
  "kernelspec": {
   "display_name": "Python 3",
   "language": "python",
   "name": "python3"
  },
  "language_info": {
   "codemirror_mode": {
    "name": "ipython",
    "version": 3
   },
   "file_extension": ".py",
   "mimetype": "text/x-python",
   "name": "python",
   "nbconvert_exporter": "python",
   "pygments_lexer": "ipython3",
   "version": "3.8.10"
  }
 },
 "nbformat": 4,
 "nbformat_minor": 2
}
