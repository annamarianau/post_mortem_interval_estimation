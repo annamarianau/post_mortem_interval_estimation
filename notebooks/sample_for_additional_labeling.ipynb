{
 "cells": [
  {
   "cell_type": "code",
   "execution_count": 2,
   "metadata": {},
   "outputs": [],
   "source": [
    "import pandas as pd\n",
    "import numpy as np\n",
    "from sklearn.preprocessing import StandardScaler\n",
    "import matplotlib.pyplot as plt\n",
    "from sklearn.metrics import accuracy_score\n",
    "import seaborn as sns\n",
    "import pickle\n",
    "import math\n",
    "\n",
    "pd.set_option('display.max_rows', None)\n",
    "pd.set_option('display.max_columns', None)\n",
    "pd.set_option('max_colwidth', 700)"
   ]
  },
  {
   "cell_type": "markdown",
   "metadata": {},
   "source": [
    "The data sampling for additional SOD labeling will be done according to the analysis results of Gelderman_SOD_cohort_analysis.ipynb."
   ]
  },
  {
   "cell_type": "markdown",
   "metadata": {},
   "source": [
    "# Import master dataset and process it"
   ]
  },
  {
   "cell_type": "code",
   "execution_count": 38,
   "metadata": {},
   "outputs": [
    {
     "name": "stdout",
     "output_type": "stream",
     "text": [
      "1132970\n"
     ]
    },
    {
     "data": {
      "text/html": [
       "<div>\n",
       "<style scoped>\n",
       "    .dataframe tbody tr th:only-of-type {\n",
       "        vertical-align: middle;\n",
       "    }\n",
       "\n",
       "    .dataframe tbody tr th {\n",
       "        vertical-align: top;\n",
       "    }\n",
       "\n",
       "    .dataframe thead th {\n",
       "        text-align: right;\n",
       "    }\n",
       "</style>\n",
       "<table border=\"1\" class=\"dataframe\">\n",
       "  <thead>\n",
       "    <tr style=\"text-align: right;\">\n",
       "      <th></th>\n",
       "      <th>new_id</th>\n",
       "      <th>old_id</th>\n",
       "      <th>img_path</th>\n",
       "      <th>img</th>\n",
       "      <th>correct_img_date</th>\n",
       "      <th>date_placed_ARF</th>\n",
       "      <th>PMI_days</th>\n",
       "      <th>year</th>\n",
       "      <th>sex</th>\n",
       "      <th>ancestry</th>\n",
       "      <th>est_stature_cm</th>\n",
       "      <th>est_weight_lb</th>\n",
       "      <th>est_stature_in</th>\n",
       "      <th>age_at_death</th>\n",
       "      <th>true_BP</th>\n",
       "      <th>pred_BP</th>\n",
       "      <th>pred_BP_conf</th>\n",
       "      <th>true_SOD_G</th>\n",
       "      <th>BP_of_true_SOD_G</th>\n",
       "      <th>pred_SOD_G</th>\n",
       "      <th>pred_SOD_G_conf</th>\n",
       "      <th>true_SOD_M</th>\n",
       "      <th>BP_of_true_SOD_M</th>\n",
       "    </tr>\n",
       "  </thead>\n",
       "  <tbody>\n",
       "    <tr>\n",
       "      <th>0</th>\n",
       "      <td>000</td>\n",
       "      <td>UT01-18D</td>\n",
       "      <td>/da1_data/icputrd/arf/mean.js/public/anau_img3/000/00000121.01.JPG</td>\n",
       "      <td>00000121.01.JPG</td>\n",
       "      <td>2018-01-21</td>\n",
       "      <td>2018-01-21</td>\n",
       "      <td>0.0</td>\n",
       "      <td>2018.0</td>\n",
       "      <td>Male</td>\n",
       "      <td>NaN</td>\n",
       "      <td>177.8</td>\n",
       "      <td>160.0</td>\n",
       "      <td>70.000038</td>\n",
       "      <td>64.0</td>\n",
       "      <td>NaN</td>\n",
       "      <td>stake</td>\n",
       "      <td>100.00</td>\n",
       "      <td>NaN</td>\n",
       "      <td>NaN</td>\n",
       "      <td>NaN</td>\n",
       "      <td>NaN</td>\n",
       "      <td>NaN</td>\n",
       "      <td>NaN</td>\n",
       "    </tr>\n",
       "    <tr>\n",
       "      <th>1</th>\n",
       "      <td>000</td>\n",
       "      <td>UT01-18D</td>\n",
       "      <td>/da1_data/icputrd/arf/mean.js/public/anau_img3/000/00000121.02.JPG</td>\n",
       "      <td>00000121.02.JPG</td>\n",
       "      <td>2018-01-21</td>\n",
       "      <td>2018-01-21</td>\n",
       "      <td>0.0</td>\n",
       "      <td>2018.0</td>\n",
       "      <td>Male</td>\n",
       "      <td>NaN</td>\n",
       "      <td>177.8</td>\n",
       "      <td>160.0</td>\n",
       "      <td>70.000038</td>\n",
       "      <td>64.0</td>\n",
       "      <td>NaN</td>\n",
       "      <td>fullbody</td>\n",
       "      <td>85.51</td>\n",
       "      <td>NaN</td>\n",
       "      <td>NaN</td>\n",
       "      <td>NaN</td>\n",
       "      <td>NaN</td>\n",
       "      <td>NaN</td>\n",
       "      <td>NaN</td>\n",
       "    </tr>\n",
       "    <tr>\n",
       "      <th>2</th>\n",
       "      <td>000</td>\n",
       "      <td>UT01-18D</td>\n",
       "      <td>/da1_data/icputrd/arf/mean.js/public/anau_img3/000/00000121.03.JPG</td>\n",
       "      <td>00000121.03.JPG</td>\n",
       "      <td>2018-01-21</td>\n",
       "      <td>2018-01-21</td>\n",
       "      <td>0.0</td>\n",
       "      <td>2018.0</td>\n",
       "      <td>Male</td>\n",
       "      <td>NaN</td>\n",
       "      <td>177.8</td>\n",
       "      <td>160.0</td>\n",
       "      <td>70.000038</td>\n",
       "      <td>64.0</td>\n",
       "      <td>NaN</td>\n",
       "      <td>fullbody</td>\n",
       "      <td>90.52</td>\n",
       "      <td>NaN</td>\n",
       "      <td>NaN</td>\n",
       "      <td>NaN</td>\n",
       "      <td>NaN</td>\n",
       "      <td>NaN</td>\n",
       "      <td>NaN</td>\n",
       "    </tr>\n",
       "    <tr>\n",
       "      <th>3</th>\n",
       "      <td>000</td>\n",
       "      <td>UT01-18D</td>\n",
       "      <td>/da1_data/icputrd/arf/mean.js/public/anau_img3/000/00000121.04.JPG</td>\n",
       "      <td>00000121.04.JPG</td>\n",
       "      <td>2018-01-21</td>\n",
       "      <td>2018-01-21</td>\n",
       "      <td>0.0</td>\n",
       "      <td>2018.0</td>\n",
       "      <td>Male</td>\n",
       "      <td>NaN</td>\n",
       "      <td>177.8</td>\n",
       "      <td>160.0</td>\n",
       "      <td>70.000038</td>\n",
       "      <td>64.0</td>\n",
       "      <td>NaN</td>\n",
       "      <td>fullbody</td>\n",
       "      <td>99.50</td>\n",
       "      <td>NaN</td>\n",
       "      <td>NaN</td>\n",
       "      <td>NaN</td>\n",
       "      <td>NaN</td>\n",
       "      <td>NaN</td>\n",
       "      <td>NaN</td>\n",
       "    </tr>\n",
       "    <tr>\n",
       "      <th>4</th>\n",
       "      <td>000</td>\n",
       "      <td>UT01-18D</td>\n",
       "      <td>/da1_data/icputrd/arf/mean.js/public/anau_img3/000/00000121.05.JPG</td>\n",
       "      <td>00000121.05.JPG</td>\n",
       "      <td>2018-01-21</td>\n",
       "      <td>2018-01-21</td>\n",
       "      <td>0.0</td>\n",
       "      <td>2018.0</td>\n",
       "      <td>Male</td>\n",
       "      <td>NaN</td>\n",
       "      <td>177.8</td>\n",
       "      <td>160.0</td>\n",
       "      <td>70.000038</td>\n",
       "      <td>64.0</td>\n",
       "      <td>NaN</td>\n",
       "      <td>fullbody</td>\n",
       "      <td>43.47</td>\n",
       "      <td>NaN</td>\n",
       "      <td>NaN</td>\n",
       "      <td>NaN</td>\n",
       "      <td>NaN</td>\n",
       "      <td>NaN</td>\n",
       "      <td>NaN</td>\n",
       "    </tr>\n",
       "  </tbody>\n",
       "</table>\n",
       "</div>"
      ],
      "text/plain": [
       "  new_id    old_id  \\\n",
       "0    000  UT01-18D   \n",
       "1    000  UT01-18D   \n",
       "2    000  UT01-18D   \n",
       "3    000  UT01-18D   \n",
       "4    000  UT01-18D   \n",
       "\n",
       "                                                             img_path  \\\n",
       "0  /da1_data/icputrd/arf/mean.js/public/anau_img3/000/00000121.01.JPG   \n",
       "1  /da1_data/icputrd/arf/mean.js/public/anau_img3/000/00000121.02.JPG   \n",
       "2  /da1_data/icputrd/arf/mean.js/public/anau_img3/000/00000121.03.JPG   \n",
       "3  /da1_data/icputrd/arf/mean.js/public/anau_img3/000/00000121.04.JPG   \n",
       "4  /da1_data/icputrd/arf/mean.js/public/anau_img3/000/00000121.05.JPG   \n",
       "\n",
       "               img correct_img_date date_placed_ARF  PMI_days    year   sex  \\\n",
       "0  00000121.01.JPG       2018-01-21      2018-01-21       0.0  2018.0  Male   \n",
       "1  00000121.02.JPG       2018-01-21      2018-01-21       0.0  2018.0  Male   \n",
       "2  00000121.03.JPG       2018-01-21      2018-01-21       0.0  2018.0  Male   \n",
       "3  00000121.04.JPG       2018-01-21      2018-01-21       0.0  2018.0  Male   \n",
       "4  00000121.05.JPG       2018-01-21      2018-01-21       0.0  2018.0  Male   \n",
       "\n",
       "  ancestry  est_stature_cm  est_weight_lb  est_stature_in  age_at_death  \\\n",
       "0      NaN           177.8          160.0       70.000038          64.0   \n",
       "1      NaN           177.8          160.0       70.000038          64.0   \n",
       "2      NaN           177.8          160.0       70.000038          64.0   \n",
       "3      NaN           177.8          160.0       70.000038          64.0   \n",
       "4      NaN           177.8          160.0       70.000038          64.0   \n",
       "\n",
       "  true_BP   pred_BP  pred_BP_conf  true_SOD_G BP_of_true_SOD_G  pred_SOD_G  \\\n",
       "0     NaN     stake        100.00         NaN              NaN         NaN   \n",
       "1     NaN  fullbody         85.51         NaN              NaN         NaN   \n",
       "2     NaN  fullbody         90.52         NaN              NaN         NaN   \n",
       "3     NaN  fullbody         99.50         NaN              NaN         NaN   \n",
       "4     NaN  fullbody         43.47         NaN              NaN         NaN   \n",
       "\n",
       "   pred_SOD_G_conf  true_SOD_M BP_of_true_SOD_M  \n",
       "0              NaN         NaN              NaN  \n",
       "1              NaN         NaN              NaN  \n",
       "2              NaN         NaN              NaN  \n",
       "3              NaN         NaN              NaN  \n",
       "4              NaN         NaN              NaN  "
      ]
     },
     "metadata": {},
     "output_type": "display_data"
    }
   ],
   "source": [
    "# import master dataset\n",
    "master_data = pd.read_pickle('../data/master_dataset.pkl')\n",
    "print(len(master_data))\n",
    "display(master_data.head())"
   ]
  },
  {
   "cell_type": "code",
   "execution_count": null,
   "metadata": {},
   "outputs": [],
   "source": [
    "# extract donor_date from img column\n",
    "master_data['donor_date'] = master_data.img.str.split('.', expand=True)[0]\n",
    "display(master_data.head(3))"
   ]
  },
  {
   "cell_type": "code",
   "execution_count": null,
   "metadata": {},
   "outputs": [],
   "source": [
    "# create final_BP column\n",
    "master_data['final_BP'] = np.where(master_data['true_BP'].notnull(), \n",
    "                                            master_data['true_BP'],\n",
    "                                            master_data['pred_BP'])\n",
    "display(master_data.head(3))\n",
    "len(master_data)"
   ]
  },
  {
   "cell_type": "code",
   "execution_count": null,
   "metadata": {},
   "outputs": [],
   "source": [
    "# remove images where true_BP.isnull() AND pred_BP_conf < 80\n",
    "master_data_filtered = master_data[(master_data.true_BP.notnull()) | \n",
    "                                   ((master_data.true_BP.isnull()) & (master_data.pred_BP_conf >= 80.0))].copy()\n",
    "display(master_data_filtered.head(3))\n",
    "len(master_data_filtered)"
   ]
  },
  {
   "cell_type": "code",
   "execution_count": null,
   "metadata": {},
   "outputs": [],
   "source": [
    "# keep only where final_BP = head, torso, or  limbs imgs\n",
    "BP_ls = ['head', 'torso', 'backside', 'arm', 'legs']\n",
    "master_data_filtered = master_data_filtered[(master_data_filtered.final_BP.isin(BP_ls))].copy()\n",
    "print(len(master_data_filtered))\n",
    "print(master_data_filtered.final_BP.unique())\n",
    "display(master_data_filtered.head())"
   ]
  },
  {
   "cell_type": "code",
   "execution_count": null,
   "metadata": {},
   "outputs": [],
   "source": [
    "# BMI distribution (CDC BMI categories: underweight, healthy, overweight, obese)\n",
    "# https://www.cdc.gov/healthyweight/assessing/index.html#:~:text=If%20your%20BMI%20is%20less,falls%20within%20the%20obese%20range.\n",
    "def bmi_imperial(weight_lb, height_in):\n",
    "    if height_in != 0: \n",
    "        bmi = round(703*(weight_lb/(height_in**2)), 1)\n",
    "    else:\n",
    "        bmi = np.nan\n",
    "    return bmi\n",
    "\n",
    "def bmi_status(bmi):\n",
    "    if bmi < 18.5:\n",
    "        status = 'underweight'\n",
    "    elif 18.5 <= bmi <= 24.9:\n",
    "        status = 'healthy'\n",
    "    elif 24.9 < bmi <= 29.9:\n",
    "        status = 'overweight'\n",
    "    elif bmi > 29.9:\n",
    "        status = 'obese'\n",
    "    elif pd.isna(bmi):\n",
    "        status = float('nan')\n",
    "    return status\n",
    "\n",
    "# add BMI and BMI_status column\n",
    "master_data_filtered['BMI'] = master_data_filtered.apply(lambda x: bmi_imperial(x['est_weight_lb'], x['est_stature_in'])\n",
    "                                               , axis=1)\n",
    "master_data_filtered['BMI_status'] = master_data_filtered.apply(lambda x: bmi_status(x['BMI']), axis=1)\n",
    "display(master_data_filtered.head())"
   ]
  },
  {
   "cell_type": "code",
   "execution_count": null,
   "metadata": {},
   "outputs": [],
   "source": [
    "# split into individual bodypart dataframes\n",
    "head_df = master_data_filtered[master_data_filtered.final_BP == 'head'].copy()\n",
    "torso_df = master_data_filtered[(master_data_filtered.final_BP == 'torso') | (master_data_filtered.final_BP == 'backside')].copy()\n",
    "limbs_df = master_data_filtered[(master_data_filtered.final_BP == 'arm') | (master_data_filtered.final_BP == 'legs')].copy()\n",
    "print(head_df.shape, torso_df.shape, limbs_df.shape)"
   ]
  },
  {
   "cell_type": "code",
   "execution_count": null,
   "metadata": {},
   "outputs": [],
   "source": [
    "# check bodypart dataframes don't contain duplicate images\n",
    "print(head_df.img.nunique())\n",
    "print(torso_df.img.nunique())\n",
    "print(limbs_df.img.nunique())"
   ]
  },
  {
   "cell_type": "code",
   "execution_count": null,
   "metadata": {},
   "outputs": [],
   "source": [
    "# align dataframes on donor_date column\n",
    "head_torso_aligned = pd.merge(head_df , torso_df[['donor_date', 'img','true_SOD_G']], \n",
    "                            how='inner', on='donor_date', suffixes= ('_head', '_torso'))\n",
    "print(head_torso_aligned.shape)\n",
    "#display(head_torso_aligned.head())\n",
    "\n",
    "head_torso_limbs_aligned = pd.merge(head_torso_aligned, limbs_df[['donor_date', 'img','true_SOD_G']], \n",
    "                                  how='inner', on='donor_date')\n",
    "print(head_torso_limbs_aligned.shape)"
   ]
  },
  {
   "cell_type": "code",
   "execution_count": null,
   "metadata": {},
   "outputs": [],
   "source": [
    "# rename some columns\n",
    "head_torso_limbs_aligned.rename(columns={\"img\": \"img_limbs\", \"true_SOD_G\": \"true_SOD_G_limbs\"}, inplace=True)"
   ]
  },
  {
   "cell_type": "code",
   "execution_count": null,
   "metadata": {},
   "outputs": [],
   "source": [
    "head_torso_limbs_aligned[['img_head', 'img_torso', 'img_limbs']].head()"
   ]
  },
  {
   "cell_type": "code",
   "execution_count": null,
   "metadata": {},
   "outputs": [],
   "source": [
    "head_torso_limbs_aligned.describe()"
   ]
  },
  {
   "cell_type": "code",
   "execution_count": null,
   "metadata": {},
   "outputs": [],
   "source": [
    "del master_data, master_data_filtered"
   ]
  },
  {
   "cell_type": "markdown",
   "metadata": {},
   "source": [
    "# Sample data for additional SOD labeling\n",
    "1. With conditions based on analysis results in Gelderman_SOD_cohort_analysis.ipynb.\n",
    "2. Without conditions to get more SOD labeled image triplets."
   ]
  },
  {
   "cell_type": "code",
   "execution_count": null,
   "metadata": {},
   "outputs": [],
   "source": [
    "# filter such that 0<=PMI_days<=365\n",
    "img_trips = head_torso_limbs_aligned[head_torso_limbs_aligned.PMI_days <= 365.0].copy()\n",
    "len(img_trips)"
   ]
  },
  {
   "cell_type": "code",
   "execution_count": null,
   "metadata": {},
   "outputs": [],
   "source": [
    "img_trips.info()"
   ]
  },
  {
   "cell_type": "code",
   "execution_count": null,
   "metadata": {},
   "outputs": [],
   "source": [
    "img_trips.dropna(subset=['sex', 'est_weight_lb', 'est_stature_in', 'age_at_death'], inplace=True)\n",
    "img_trips.shape"
   ]
  },
  {
   "cell_type": "markdown",
   "metadata": {},
   "source": [
    "## 1. Sampling with conditions"
   ]
  },
  {
   "cell_type": "code",
   "execution_count": null,
   "metadata": {},
   "outputs": [],
   "source": [
    "# filter such that BMI_status = overweight, healthy, or underweight (less overweight)\n",
    "img_trips2 = img_trips[img_trips.BMI_status.isin([ 'obese',\n",
    "                                                    'healthy', \n",
    "                                                    'underweight'])].copy()\n",
    "print(len(img_trips2))\n",
    "print(img_trips2.BMI_status.unique())"
   ]
  },
  {
   "cell_type": "markdown",
   "metadata": {},
   "source": [
    "#### Sample for specific PMI bins\n",
    "This is based on the histogram \"pred_PMI_days (Gelderman SOD Cohort) w/ customized bins\" in Gelderman_SOD_cohort_analysis.ipynb."
   ]
  },
  {
   "cell_type": "code",
   "execution_count": null,
   "metadata": {},
   "outputs": [],
   "source": [
    "# 0-10\n",
    "bin_0_10 = img_trips2[(img_trips2.PMI_days >= 0)&(img_trips2.PMI_days <= 10)].drop_duplicates('donor_date')\\\n",
    "                    .groupby('PMI_days').sample(1, random_state=1).copy()\n",
    "print(bin_0_10.shape)\n",
    "bin_0_10"
   ]
  },
  {
   "cell_type": "code",
   "execution_count": null,
   "metadata": {},
   "outputs": [],
   "source": [
    "img_trips2[(img_trips2.PMI_days > 85)&(img_trips2.PMI_days <= 95)].donor_date.unique()"
   ]
  },
  {
   "cell_type": "code",
   "execution_count": null,
   "metadata": {},
   "outputs": [],
   "source": [
    "# 85-95\n",
    "bin_85_95 = img_trips2[(img_trips2.PMI_days > 85)&(img_trips2.PMI_days <= 95)].\\\n",
    "                    drop_duplicates('donor_date').sample(5, random_state=1).copy()\n",
    "print(bin_85_95.shape)\n",
    "bin_85_95"
   ]
  },
  {
   "cell_type": "code",
   "execution_count": null,
   "metadata": {
    "scrolled": true
   },
   "outputs": [],
   "source": [
    "img_trips2[(img_trips2.PMI_days > 95)&(img_trips2.PMI_days <= 106)].donor_date.unique()"
   ]
  },
  {
   "cell_type": "code",
   "execution_count": null,
   "metadata": {},
   "outputs": [],
   "source": [
    "# 95-106\n",
    "bin_95_106 = img_trips2[(img_trips2.PMI_days > 95)&(img_trips2.PMI_days <= 106)].\\\n",
    "                    drop_duplicates('donor_date').sample(5, random_state=1).copy()\n",
    "print(bin_95_106.shape)\n",
    "bin_95_106"
   ]
  },
  {
   "cell_type": "code",
   "execution_count": null,
   "metadata": {},
   "outputs": [],
   "source": [
    "img_trips2[(img_trips2.PMI_days > 131) & (img_trips2.PMI_days <= 145)].donor_date.unique()"
   ]
  },
  {
   "cell_type": "code",
   "execution_count": null,
   "metadata": {},
   "outputs": [],
   "source": [
    "# 131-145\n",
    "bin_131_145 = img_trips2[(img_trips2.PMI_days > 131) & (img_trips2.PMI_days <= 145)].\\\n",
    "                    drop_duplicates('donor_date').sample(3, random_state=1).copy()\n",
    "print(bin_131_145.shape)\n",
    "bin_131_145"
   ]
  },
  {
   "cell_type": "code",
   "execution_count": null,
   "metadata": {},
   "outputs": [],
   "source": [
    "img_trips2[(img_trips2.PMI_days > 145) & (img_trips2.PMI_days <= 160)].donor_date.unique()"
   ]
  },
  {
   "cell_type": "code",
   "execution_count": null,
   "metadata": {},
   "outputs": [],
   "source": [
    "# 145-160\n",
    "bin_145_160 = img_trips2[(img_trips2.PMI_days > 145) & (img_trips2.PMI_days <= 160)].\\\n",
    "                    drop_duplicates('donor_date').sample(5, random_state=1).copy()\n",
    "print(bin_145_160.shape)\n",
    "bin_145_160"
   ]
  },
  {
   "cell_type": "code",
   "execution_count": null,
   "metadata": {},
   "outputs": [],
   "source": [
    "img_trips2[(img_trips2.PMI_days > 160) & (img_trips2.PMI_days <= 176)].donor_date.unique()"
   ]
  },
  {
   "cell_type": "code",
   "execution_count": null,
   "metadata": {},
   "outputs": [],
   "source": [
    "# 160-176\n",
    "bin_160_176 = img_trips2[(img_trips2.PMI_days > 160) & (img_trips2.PMI_days <= 176)].\\\n",
    "                drop_duplicates('donor_date').sample(2, random_state=1).copy()\n",
    "bin_160_176"
   ]
  },
  {
   "cell_type": "code",
   "execution_count": null,
   "metadata": {},
   "outputs": [],
   "source": [
    "img_trips2[(img_trips2.PMI_days > 176) & (img_trips2.PMI_days <= 193)].donor_date.unique()"
   ]
  },
  {
   "cell_type": "code",
   "execution_count": null,
   "metadata": {},
   "outputs": [],
   "source": [
    "# 176-193\n",
    "bin_176_193 = img_trips2[(img_trips2.PMI_days > 176) & (img_trips2.PMI_days <= 193)].\\\n",
    "                drop_duplicates('donor_date').sample(3, random_state=1).copy()\n",
    "bin_176_193"
   ]
  },
  {
   "cell_type": "code",
   "execution_count": null,
   "metadata": {},
   "outputs": [],
   "source": [
    "img_trips2[(img_trips2.PMI_days > 193) & (img_trips2.PMI_days <= 211)].donor_date.unique()"
   ]
  },
  {
   "cell_type": "code",
   "execution_count": null,
   "metadata": {},
   "outputs": [],
   "source": [
    "# 193-211\n",
    "bin_193_211 = img_trips2[(img_trips2.PMI_days > 193) & (img_trips2.PMI_days <= 211)].\\\n",
    "                drop_duplicates('donor_date').sample(3, random_state=1).copy()\n",
    "bin_193_211"
   ]
  },
  {
   "cell_type": "code",
   "execution_count": null,
   "metadata": {},
   "outputs": [],
   "source": [
    "img_trips2[(img_trips2.PMI_days > 211) & (img_trips2.PMI_days <= 230)].donor_date.unique()"
   ]
  },
  {
   "cell_type": "code",
   "execution_count": null,
   "metadata": {},
   "outputs": [],
   "source": [
    "# 211-230,\n",
    "bin_211_230 = img_trips2[(img_trips2.PMI_days > 211) & (img_trips2.PMI_days <= 230)].\\\n",
    "                drop_duplicates('donor_date').sample(5, random_state=1).copy()\n",
    "bin_211_230"
   ]
  },
  {
   "cell_type": "code",
   "execution_count": null,
   "metadata": {},
   "outputs": [],
   "source": [
    "img_trips2[(img_trips2.PMI_days > 230) & (img_trips2.PMI_days <= 250)].donor_date.unique()"
   ]
  },
  {
   "cell_type": "code",
   "execution_count": null,
   "metadata": {},
   "outputs": [],
   "source": [
    "# 230-250\n",
    "bin_230_250 = img_trips2[(img_trips2.PMI_days > 230) & (img_trips2.PMI_days <= 250)].\\\n",
    "                drop_duplicates('donor_date').sample(3, random_state=1).copy()\n",
    "bin_230_250"
   ]
  },
  {
   "cell_type": "code",
   "execution_count": null,
   "metadata": {},
   "outputs": [],
   "source": [
    "img_trips2[(img_trips2.PMI_days > 250) & (img_trips2.PMI_days <= 271)].donor_date.unique()"
   ]
  },
  {
   "cell_type": "code",
   "execution_count": null,
   "metadata": {},
   "outputs": [],
   "source": [
    "# 250-271\n",
    "bin_250_271 = img_trips2[(img_trips2.PMI_days > 250) & (img_trips2.PMI_days <= 271)].\\\n",
    "                drop_duplicates('donor_date').sample(5, random_state=1).copy()\n",
    "bin_250_271"
   ]
  },
  {
   "cell_type": "code",
   "execution_count": null,
   "metadata": {},
   "outputs": [],
   "source": [
    "img_trips2[(img_trips2.PMI_days > 271) & (img_trips2.PMI_days <= 293)].donor_date.unique()"
   ]
  },
  {
   "cell_type": "code",
   "execution_count": null,
   "metadata": {},
   "outputs": [],
   "source": [
    "# 271-293\n",
    "bin_271_293 = img_trips2[(img_trips2.PMI_days > 271) & (img_trips2.PMI_days <= 293)].\\\n",
    "                drop_duplicates('donor_date').sample(5, random_state=1).copy()\n",
    "bin_271_293"
   ]
  },
  {
   "cell_type": "code",
   "execution_count": null,
   "metadata": {},
   "outputs": [],
   "source": [
    "img_trips2[(img_trips2.PMI_days > 293) & (img_trips2.PMI_days <= 316)].donor_date.unique()"
   ]
  },
  {
   "cell_type": "code",
   "execution_count": null,
   "metadata": {},
   "outputs": [],
   "source": [
    "# 293-316\n",
    "bin_293_316 = img_trips2[(img_trips2.PMI_days > 293) & (img_trips2.PMI_days <= 316)].\\\n",
    "                drop_duplicates('donor_date').sample(4, random_state=1).copy()\n",
    "bin_293_316"
   ]
  },
  {
   "cell_type": "code",
   "execution_count": null,
   "metadata": {},
   "outputs": [],
   "source": [
    "img_trips2[(img_trips2.PMI_days > 316) & (img_trips2.PMI_days <= 340)].donor_date.unique()"
   ]
  },
  {
   "cell_type": "code",
   "execution_count": null,
   "metadata": {},
   "outputs": [],
   "source": [
    "# 316-340\n",
    "bin_316_340 = img_trips2[(img_trips2.PMI_days > 316) & (img_trips2.PMI_days <= 340)]\\\n",
    "                .drop_duplicates('donor_date').sample(4, random_state=1).copy()\n",
    "bin_316_340"
   ]
  },
  {
   "cell_type": "code",
   "execution_count": null,
   "metadata": {},
   "outputs": [],
   "source": [
    "img_trips2[(img_trips2.PMI_days > 340) & (img_trips2.PMI_days <= 365)].donor_date.unique()"
   ]
  },
  {
   "cell_type": "code",
   "execution_count": null,
   "metadata": {},
   "outputs": [],
   "source": [
    "# 340-365\n",
    "bin_340_365 = img_trips2[(img_trips2.PMI_days > 340) & (img_trips2.PMI_days <= 365)]\\\n",
    "                .drop_duplicates('donor_date').sample(5, random_state=1).copy()\n",
    "bin_340_365"
   ]
  },
  {
   "cell_type": "code",
   "execution_count": null,
   "metadata": {},
   "outputs": [],
   "source": [
    "under50 = img_trips2[img_trips2.age_at_death <= 50.0].drop_duplicates('donor_date').\\\n",
    "            sample(30, random_state=1).copy()"
   ]
  },
  {
   "cell_type": "code",
   "execution_count": null,
   "metadata": {},
   "outputs": [],
   "source": [
    "underweight = img_trips2[img_trips2.BMI_status == 'underweight'].drop_duplicates('donor_date').\\\n",
    "            sample(20, random_state=1).copy()"
   ]
  },
  {
   "cell_type": "code",
   "execution_count": null,
   "metadata": {},
   "outputs": [],
   "source": [
    "df_ls = [bin_0_10, bin_85_95, bin_95_106, bin_131_145, bin_145_160, bin_160_176, bin_176_193, bin_193_211, \n",
    "         bin_211_230, bin_230_250, bin_250_271, \n",
    "         bin_271_293, bin_293_316, bin_316_340, bin_340_365, under50, underweight]\n",
    "len(df_ls)"
   ]
  },
  {
   "cell_type": "code",
   "execution_count": null,
   "metadata": {},
   "outputs": [],
   "source": [
    "# concat new sample into a single df\n",
    "new_samples = pd.concat(df_ls, axis=0)\n",
    "new_samples.shape"
   ]
  },
  {
   "cell_type": "code",
   "execution_count": null,
   "metadata": {},
   "outputs": [],
   "source": [
    "# drop duplicates rows \n",
    "new_samples.drop_duplicates(inplace=True)\n",
    "len(new_samples)"
   ]
  },
  {
   "cell_type": "code",
   "execution_count": null,
   "metadata": {},
   "outputs": [],
   "source": [
    "# check if donor_date are unique meaning no duplicates\n",
    "new_samples.donor_date.nunique()"
   ]
  },
  {
   "cell_type": "code",
   "execution_count": null,
   "metadata": {},
   "outputs": [],
   "source": [
    "new_samples[new_samples.new_id == 'ff9']"
   ]
  },
  {
   "cell_type": "code",
   "execution_count": null,
   "metadata": {},
   "outputs": [],
   "source": [
    "# save as CSV file\n",
    "#new_samples.to_csv('../data/Gelderman_SOD_cohort/new_samples.csv', index_label=False)"
   ]
  },
  {
   "cell_type": "code",
   "execution_count": null,
   "metadata": {},
   "outputs": [],
   "source": [
    "new_samples.describe()"
   ]
  },
  {
   "cell_type": "markdown",
   "metadata": {},
   "source": [
    "#### Add to existing Gelderman SOD cohort and analyze histograms"
   ]
  },
  {
   "cell_type": "code",
   "execution_count": null,
   "metadata": {},
   "outputs": [],
   "source": [
    "g_data = pd.read_csv('../data/Gelderman_SOD_cohort/unique_img_triplets.csv')\n",
    "g_data.shape"
   ]
  },
  {
   "cell_type": "code",
   "execution_count": null,
   "metadata": {},
   "outputs": [],
   "source": [
    "g_data_plus = pd.concat([g_data[['new_id', 'donor_date', 'age_at_death', 'PMI_days', 'est_weight_lb', 'est_stature_in', ]], \n",
    "                         new_samples[['new_id','donor_date','age_at_death','PMI_days', 'est_weight_lb', 'est_stature_in']]], axis=0)\n",
    "print(g_data_plus.shape)\n",
    "display(g_data_plus.head())\n",
    "print(g_data_plus.donor_date.nunique())"
   ]
  },
  {
   "cell_type": "code",
   "execution_count": null,
   "metadata": {},
   "outputs": [],
   "source": [
    "g_data_plus.hist(column='PMI_days')\n",
    "plt.title('PMI_days (Gelderman SOD Cohort)')\n",
    "plt.show()"
   ]
  },
  {
   "cell_type": "code",
   "execution_count": null,
   "metadata": {},
   "outputs": [],
   "source": [
    "custom_bins = [0,1,2,3,4,5,6,7,8,9,10,  #1\n",
    "12,14,16,18,20,  #2\n",
    "23,26,29,32,  #3\n",
    "36,40,  #4\n",
    "45,50,  #5\n",
    "56,61,\n",
    "68,\n",
    "76,\n",
    "85,\n",
    "95, #10              \n",
    "106,\n",
    "118,\n",
    "131,\n",
    "145,\n",
    "160, #15\n",
    "176,\n",
    "193,               \n",
    "211,\n",
    "230,\n",
    "250, #20\n",
    "271,\n",
    "293,              \n",
    "316,               \n",
    "340,\n",
    "365]"
   ]
  },
  {
   "cell_type": "code",
   "execution_count": null,
   "metadata": {},
   "outputs": [],
   "source": [
    "# PMI_days histogram with customized bin widths. \n",
    "g_data_plus.hist(column='PMI_days', bins=custom_bins)\n",
    "plt.title('pred_PMI_days (Gelderman SOD Cohort) w/ customized bins')\n",
    "plt.show()"
   ]
  },
  {
   "cell_type": "code",
   "execution_count": null,
   "metadata": {},
   "outputs": [],
   "source": [
    "g_data_plus.hist(column='age_at_death', bins=3)\n",
    "plt.title('age_at_death (Gelderman SOD Cohort)')\n",
    "plt.show()"
   ]
  },
  {
   "cell_type": "code",
   "execution_count": null,
   "metadata": {},
   "outputs": [],
   "source": [
    "g_data_plus['BMI'] = g_data_plus.apply(lambda x: bmi_imperial(x['est_weight_lb'], x['est_stature_in'])\n",
    "                                               , axis=1)\n",
    "g_data_plus['BMI_status'] = g_data_plus.apply(lambda x: bmi_status(x['BMI']), axis=1)\n",
    "display(g_data_plus.head())"
   ]
  },
  {
   "cell_type": "code",
   "execution_count": null,
   "metadata": {},
   "outputs": [],
   "source": [
    "g_data_plus['BMI_status'].value_counts().plot(kind='bar')\n",
    "plt.title('BMI_status (Gelderman SOD Cohort)')\n",
    "plt.show()"
   ]
  },
  {
   "cell_type": "code",
   "execution_count": null,
   "metadata": {},
   "outputs": [],
   "source": [
    "g_data_plus.new_id.nunique()"
   ]
  },
  {
   "cell_type": "code",
   "execution_count": null,
   "metadata": {},
   "outputs": [],
   "source": [
    "g_data_plus.info()"
   ]
  },
  {
   "cell_type": "code",
   "execution_count": null,
   "metadata": {},
   "outputs": [],
   "source": [
    "g_data_plus.describe()"
   ]
  },
  {
   "cell_type": "markdown",
   "metadata": {},
   "source": [
    "#### Prepare file for IPCUTRD labeling"
   ]
  },
  {
   "cell_type": "code",
   "execution_count": null,
   "metadata": {},
   "outputs": [],
   "source": [
    "all_new = pd.concat([new_samples], axis=0)\n",
    "print(len(all_new))\n",
    "display(all_new.head())"
   ]
  },
  {
   "cell_type": "code",
   "execution_count": null,
   "metadata": {},
   "outputs": [],
   "source": [
    "new_head = all_new[['img_head']].copy()\n",
    "new_head['BP'] = 'head'\n",
    "new_head.columns = ['img', 'BP']\n",
    "display(new_head.head(2))\n",
    "\n",
    "new_torso = all_new[['img_torso']].copy()\n",
    "new_torso['BP'] = 'torso'\n",
    "new_torso.columns = ['img', 'BP']\n",
    "display(new_torso.head(2))\n",
    "\n",
    "new_limbs = all_new[['img_limbs']].copy()\n",
    "new_limbs['BP'] = 'limbs'\n",
    "new_limbs.columns = ['img', 'BP']\n",
    "display(new_limbs.head(2))\n",
    "\n",
    "all_new = pd.concat([new_head, new_torso, new_limbs], axis=0)\n",
    "print(len(all_new))\n",
    "\n",
    "all_new_no_dups = all_new.drop_duplicates('img').copy()\n",
    "print(len(all_new_no_dups))\n",
    "display(all_new_no_dups.head())"
   ]
  },
  {
   "cell_type": "code",
   "execution_count": null,
   "metadata": {},
   "outputs": [],
   "source": [
    "# create img_path column\n",
    "all_new_no_dups['img_path'] = '/da1_data/icputrd/arf/mean.js/public/anau_img3/' \\\n",
    "                                + all_new_no_dups['img'].str[:3] + '/' + all_new_no_dups['img'].astype(str)\n",
    "display(all_new_no_dups.head())\n",
    "len(all_new_no_dups)"
   ]
  },
  {
   "cell_type": "code",
   "execution_count": null,
   "metadata": {},
   "outputs": [],
   "source": [
    "# save to CSV file which will be used to populate ICPUTRd for labeling\n",
    "all_new_no_dups[['img_path', 'BP']].to_csv('/home/anau/SOD_labeling/for_PMI_estimation/additional_labeling_samples.csv',\n",
    "                                          header=False, index=False)"
   ]
  },
  {
   "cell_type": "code",
   "execution_count": null,
   "metadata": {},
   "outputs": [],
   "source": []
  },
  {
   "cell_type": "markdown",
   "metadata": {},
   "source": [
    "# Other for now"
   ]
  },
  {
   "cell_type": "markdown",
   "metadata": {},
   "source": [
    "## 2. Sampling without any conditions"
   ]
  },
  {
   "cell_type": "code",
   "execution_count": null,
   "metadata": {},
   "outputs": [],
   "source": [
    "print(img_trips.shape)\n",
    "print(new_samples.shape)"
   ]
  },
  {
   "cell_type": "code",
   "execution_count": null,
   "metadata": {},
   "outputs": [],
   "source": [
    "# remove image triplets already sampled in 1.\n",
    "img_trips_unused = img_trips.drop(new_samples.index, axis=0).copy()\n",
    "img_trips_unused.shape"
   ]
  },
  {
   "cell_type": "code",
   "execution_count": null,
   "metadata": {},
   "outputs": [],
   "source": [
    "# sample per custom_bins\n",
    "new_samples_no_condition = pd.DataFrame()\n",
    "for i, bin in enumerate(custom_bins):\n",
    "    if custom_bins[i] != 365:\n",
    "        lb = custom_bins[i]\n",
    "        ub = custom_bins[i+1]\n",
    "        try:\n",
    "            sampled_imgs = img_trips_unused[(img_trips_unused.PMI_days >= lb) & (img_trips_unused.PMI_days <= ub)]\\\n",
    "                    .drop_duplicates('donor_date').sample(8, random_state=1).copy()\n",
    "            new_samples_no_condition = pd.concat([new_samples_no_condition, sampled_imgs], axis=0)\n",
    "        except:\n",
    "            sampled_imgs = img_trips_unused[(img_trips_unused.PMI_days >= lb) & (img_trips_unused.PMI_days <= ub)]\\\n",
    "                    .drop_duplicates('donor_date').sample(7, random_state=1).copy()\n",
    "            new_samples_no_condition = pd.concat([new_samples_no_condition, sampled_imgs], axis=0) "
   ]
  },
  {
   "cell_type": "code",
   "execution_count": null,
   "metadata": {},
   "outputs": [],
   "source": [
    "# PMI_days histogram with customized bin widths \n",
    "new_samples_no_condition.hist(column='PMI_days', bins=custom_bins)\n",
    "plt.title('pred_PMI_days (Gelderman SOD Cohort) w/ customized bins')\n",
    "plt.show()"
   ]
  },
  {
   "cell_type": "code",
   "execution_count": null,
   "metadata": {},
   "outputs": [],
   "source": [
    "new_samples_no_condition.describe()"
   ]
  },
  {
   "cell_type": "code",
   "execution_count": null,
   "metadata": {},
   "outputs": [],
   "source": [
    "# check that samples from new_samples were not re-sampled in new_samples_no_condition\n",
    "new_samples_no_condition[new_samples_no_condition.index.isin(new_samples.index)]"
   ]
  }
 ],
 "metadata": {
  "kernelspec": {
   "display_name": "Python 3",
   "language": "python",
   "name": "python3"
  },
  "language_info": {
   "codemirror_mode": {
    "name": "ipython",
    "version": 3
   },
   "file_extension": ".py",
   "mimetype": "text/x-python",
   "name": "python",
   "nbconvert_exporter": "python",
   "pygments_lexer": "ipython3",
   "version": "3.8.10"
  }
 },
 "nbformat": 4,
 "nbformat_minor": 2
}
