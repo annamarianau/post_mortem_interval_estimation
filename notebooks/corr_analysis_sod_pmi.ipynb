{
 "cells": [
  {
   "cell_type": "code",
   "execution_count": 7,
   "metadata": {},
   "outputs": [],
   "source": [
    "import pandas as pd\n",
    "import numpy as np\n",
    "%matplotlib inline\n",
    "import matplotlib.pyplot as plt\n",
    "\n",
    "pd.set_option('display.max_rows', None)\n",
    "pd.set_option('display.max_columns', None)\n",
    "pd.set_option('max_colwidth', 700)"
   ]
  },
  {
   "cell_type": "markdown",
   "metadata": {},
   "source": [
    "This notebook analyzes the correlation between SOD and PMI."
   ]
  },
  {
   "cell_type": "markdown",
   "metadata": {},
   "source": [
    "# Import PMI-SOD-labeled data "
   ]
  },
  {
   "cell_type": "code",
   "execution_count": 9,
   "metadata": {},
   "outputs": [
    {
     "data": {
      "text/html": [
       "<div>\n",
       "<style scoped>\n",
       "    .dataframe tbody tr th:only-of-type {\n",
       "        vertical-align: middle;\n",
       "    }\n",
       "\n",
       "    .dataframe tbody tr th {\n",
       "        vertical-align: top;\n",
       "    }\n",
       "\n",
       "    .dataframe thead th {\n",
       "        text-align: right;\n",
       "    }\n",
       "</style>\n",
       "<table border=\"1\" class=\"dataframe\">\n",
       "  <thead>\n",
       "    <tr style=\"text-align: right;\">\n",
       "      <th></th>\n",
       "      <th>path</th>\n",
       "      <th>label</th>\n",
       "      <th>img</th>\n",
       "      <th>new_id</th>\n",
       "      <th>new_img</th>\n",
       "      <th>old_path</th>\n",
       "      <th>new_path</th>\n",
       "      <th>old_id</th>\n",
       "      <th>old_img</th>\n",
       "      <th>old_month</th>\n",
       "      <th>old_day</th>\n",
       "      <th>old_yr</th>\n",
       "      <th>old_date</th>\n",
       "      <th>date_placed_ARF</th>\n",
       "      <th>img_pmi_days</th>\n",
       "    </tr>\n",
       "  </thead>\n",
       "  <tbody>\n",
       "    <tr>\n",
       "      <th>0</th>\n",
       "      <td>/da1_data/icputrd/arf/mean.js/public/anau_img3/000/00000122.08.JPG</td>\n",
       "      <td>2</td>\n",
       "      <td>00000122.08.JPG</td>\n",
       "      <td>000</td>\n",
       "      <td>00000122.08.JPG</td>\n",
       "      <td>/da1_data/icputrd/arf/mean.js/public/2018/UT01-18D/Daily Photos/UT01-18D_01_22_2018 (8).JPG</td>\n",
       "      <td>/da1_data/icputrd/arf/mean.js/public/anau_img3/000/00000122.08.JPG</td>\n",
       "      <td>UT01-18D</td>\n",
       "      <td>UT01-18D_01_22_2018 (8).JPG</td>\n",
       "      <td>1</td>\n",
       "      <td>22</td>\n",
       "      <td>2018</td>\n",
       "      <td>2018-01-22</td>\n",
       "      <td>2018-01-21</td>\n",
       "      <td>1.0</td>\n",
       "    </tr>\n",
       "    <tr>\n",
       "      <th>1</th>\n",
       "      <td>/da1_data/icputrd/arf/mean.js/public/anau_img3/000/00000129.14.JPG</td>\n",
       "      <td>2</td>\n",
       "      <td>00000129.14.JPG</td>\n",
       "      <td>000</td>\n",
       "      <td>00000129.14.JPG</td>\n",
       "      <td>/da1_data/icputrd/arf/mean.js/public/2018/UT01-18D/Daily Photos/UT01-18D_01_29_2018 (14).JPG</td>\n",
       "      <td>/da1_data/icputrd/arf/mean.js/public/anau_img3/000/00000129.14.JPG</td>\n",
       "      <td>UT01-18D</td>\n",
       "      <td>UT01-18D_01_29_2018 (14).JPG</td>\n",
       "      <td>1</td>\n",
       "      <td>29</td>\n",
       "      <td>2018</td>\n",
       "      <td>2018-01-29</td>\n",
       "      <td>2018-01-21</td>\n",
       "      <td>8.0</td>\n",
       "    </tr>\n",
       "    <tr>\n",
       "      <th>2</th>\n",
       "      <td>/da1_data/icputrd/arf/mean.js/public/anau_img3/000/00000213.21.JPG</td>\n",
       "      <td>2</td>\n",
       "      <td>00000213.21.JPG</td>\n",
       "      <td>000</td>\n",
       "      <td>00000213.21.JPG</td>\n",
       "      <td>/da1_data/icputrd/arf/mean.js/public/2018/UT01-18D/Daily Photos/UT01-18D_02_13_2018 (21).JPG</td>\n",
       "      <td>/da1_data/icputrd/arf/mean.js/public/anau_img3/000/00000213.21.JPG</td>\n",
       "      <td>UT01-18D</td>\n",
       "      <td>UT01-18D_02_13_2018 (21).JPG</td>\n",
       "      <td>2</td>\n",
       "      <td>13</td>\n",
       "      <td>2018</td>\n",
       "      <td>2018-02-13</td>\n",
       "      <td>2018-01-21</td>\n",
       "      <td>23.0</td>\n",
       "    </tr>\n",
       "    <tr>\n",
       "      <th>3</th>\n",
       "      <td>/da1_data/icputrd/arf/mean.js/public/anau_img3/000/00000219.07.JPG</td>\n",
       "      <td>3</td>\n",
       "      <td>00000219.07.JPG</td>\n",
       "      <td>000</td>\n",
       "      <td>00000219.07.JPG</td>\n",
       "      <td>/da1_data/icputrd/arf/mean.js/public/2018/UT01-18D/Daily Photos/UT01-18D_02_19_2018 (7).JPG</td>\n",
       "      <td>/da1_data/icputrd/arf/mean.js/public/anau_img3/000/00000219.07.JPG</td>\n",
       "      <td>UT01-18D</td>\n",
       "      <td>UT01-18D_02_19_2018 (7).JPG</td>\n",
       "      <td>2</td>\n",
       "      <td>19</td>\n",
       "      <td>2018</td>\n",
       "      <td>2018-02-19</td>\n",
       "      <td>2018-01-21</td>\n",
       "      <td>29.0</td>\n",
       "    </tr>\n",
       "    <tr>\n",
       "      <th>4</th>\n",
       "      <td>/da1_data/icputrd/arf/mean.js/public/anau_img3/000/00000222.08.JPG</td>\n",
       "      <td>3</td>\n",
       "      <td>00000222.08.JPG</td>\n",
       "      <td>000</td>\n",
       "      <td>00000222.08.JPG</td>\n",
       "      <td>/da1_data/icputrd/arf/mean.js/public/2018/UT01-18D/Daily Photos/UT01-18D_02_22_2018 (8).JPG</td>\n",
       "      <td>/da1_data/icputrd/arf/mean.js/public/anau_img3/000/00000222.08.JPG</td>\n",
       "      <td>UT01-18D</td>\n",
       "      <td>UT01-18D_02_22_2018 (8).JPG</td>\n",
       "      <td>2</td>\n",
       "      <td>22</td>\n",
       "      <td>2018</td>\n",
       "      <td>2018-02-22</td>\n",
       "      <td>2018-01-21</td>\n",
       "      <td>32.0</td>\n",
       "    </tr>\n",
       "  </tbody>\n",
       "</table>\n",
       "</div>"
      ],
      "text/plain": [
       "                                                                 path  label  \\\n",
       "0  /da1_data/icputrd/arf/mean.js/public/anau_img3/000/00000122.08.JPG      2   \n",
       "1  /da1_data/icputrd/arf/mean.js/public/anau_img3/000/00000129.14.JPG      2   \n",
       "2  /da1_data/icputrd/arf/mean.js/public/anau_img3/000/00000213.21.JPG      2   \n",
       "3  /da1_data/icputrd/arf/mean.js/public/anau_img3/000/00000219.07.JPG      3   \n",
       "4  /da1_data/icputrd/arf/mean.js/public/anau_img3/000/00000222.08.JPG      3   \n",
       "\n",
       "               img new_id          new_img  \\\n",
       "0  00000122.08.JPG    000  00000122.08.JPG   \n",
       "1  00000129.14.JPG    000  00000129.14.JPG   \n",
       "2  00000213.21.JPG    000  00000213.21.JPG   \n",
       "3  00000219.07.JPG    000  00000219.07.JPG   \n",
       "4  00000222.08.JPG    000  00000222.08.JPG   \n",
       "\n",
       "                                                                                       old_path  \\\n",
       "0   /da1_data/icputrd/arf/mean.js/public/2018/UT01-18D/Daily Photos/UT01-18D_01_22_2018 (8).JPG   \n",
       "1  /da1_data/icputrd/arf/mean.js/public/2018/UT01-18D/Daily Photos/UT01-18D_01_29_2018 (14).JPG   \n",
       "2  /da1_data/icputrd/arf/mean.js/public/2018/UT01-18D/Daily Photos/UT01-18D_02_13_2018 (21).JPG   \n",
       "3   /da1_data/icputrd/arf/mean.js/public/2018/UT01-18D/Daily Photos/UT01-18D_02_19_2018 (7).JPG   \n",
       "4   /da1_data/icputrd/arf/mean.js/public/2018/UT01-18D/Daily Photos/UT01-18D_02_22_2018 (8).JPG   \n",
       "\n",
       "                                                             new_path  \\\n",
       "0  /da1_data/icputrd/arf/mean.js/public/anau_img3/000/00000122.08.JPG   \n",
       "1  /da1_data/icputrd/arf/mean.js/public/anau_img3/000/00000129.14.JPG   \n",
       "2  /da1_data/icputrd/arf/mean.js/public/anau_img3/000/00000213.21.JPG   \n",
       "3  /da1_data/icputrd/arf/mean.js/public/anau_img3/000/00000219.07.JPG   \n",
       "4  /da1_data/icputrd/arf/mean.js/public/anau_img3/000/00000222.08.JPG   \n",
       "\n",
       "     old_id                       old_img  old_month  old_day  old_yr  \\\n",
       "0  UT01-18D   UT01-18D_01_22_2018 (8).JPG          1       22    2018   \n",
       "1  UT01-18D  UT01-18D_01_29_2018 (14).JPG          1       29    2018   \n",
       "2  UT01-18D  UT01-18D_02_13_2018 (21).JPG          2       13    2018   \n",
       "3  UT01-18D   UT01-18D_02_19_2018 (7).JPG          2       19    2018   \n",
       "4  UT01-18D   UT01-18D_02_22_2018 (8).JPG          2       22    2018   \n",
       "\n",
       "     old_date date_placed_ARF  img_pmi_days  \n",
       "0  2018-01-22      2018-01-21           1.0  \n",
       "1  2018-01-29      2018-01-21           8.0  \n",
       "2  2018-02-13      2018-01-21          23.0  \n",
       "3  2018-02-19      2018-01-21          29.0  \n",
       "4  2018-02-22      2018-01-21          32.0  "
      ]
     },
     "metadata": {},
     "output_type": "display_data"
    },
    {
     "name": "stdout",
     "output_type": "stream",
     "text": [
      "(3417, 15)\n",
      "<class 'pandas.core.frame.DataFrame'>\n",
      "RangeIndex: 3417 entries, 0 to 3416\n",
      "Data columns (total 15 columns):\n",
      " #   Column           Non-Null Count  Dtype  \n",
      "---  ------           --------------  -----  \n",
      " 0   path             3417 non-null   object \n",
      " 1   label            3417 non-null   int64  \n",
      " 2   img              3417 non-null   object \n",
      " 3   new_id           3417 non-null   object \n",
      " 4   new_img          3417 non-null   object \n",
      " 5   old_path         3417 non-null   object \n",
      " 6   new_path         3417 non-null   object \n",
      " 7   old_id           3417 non-null   object \n",
      " 8   old_img          3417 non-null   object \n",
      " 9   old_month        3417 non-null   int64  \n",
      " 10  old_day          3417 non-null   int64  \n",
      " 11  old_yr           3417 non-null   int64  \n",
      " 12  old_date         3417 non-null   object \n",
      " 13  date_placed_ARF  3417 non-null   object \n",
      " 14  img_pmi_days     3417 non-null   float64\n",
      "dtypes: float64(1), int64(4), object(10)\n",
      "memory usage: 400.6+ KB\n"
     ]
    },
    {
     "data": {
      "text/plain": [
       "None"
      ]
     },
     "metadata": {},
     "output_type": "display_data"
    }
   ],
   "source": [
    "# import SOD-labeled data\n",
    "df_pmi_sod = pd.read_csv('./data/img_PMIs_to_SOD.csv')\n",
    "display(df_pmi_sod.head())\n",
    "print(df_pmi_sod.shape)\n",
    "display(df_pmi_sod.info())"
   ]
  },
  {
   "cell_type": "code",
   "execution_count": 15,
   "metadata": {},
   "outputs": [
    {
     "name": "stdout",
     "output_type": "stream",
     "text": [
      "(518, 15)\n",
      "(1319, 15)\n",
      "(782, 15)\n",
      "(798, 15)\n",
      "(397, 15)\n",
      "(997, 15)\n",
      "(589, 15)\n",
      "(598, 15)\n",
      "(2581, 15)\n"
     ]
    }
   ],
   "source": [
    "# split data by SOD\n",
    "df_pmi_one = df_pmi_sod[df_pmi_sod.label == 1]\n",
    "print(df_pmi_one.shape)\n",
    "df_pmi_two = df_pmi_sod[df_pmi_sod.label == 2]\n",
    "print(df_pmi_two.shape)\n",
    "df_pmi_three = df_pmi_sod[df_pmi_sod.label == 3]\n",
    "print(df_pmi_three.shape)\n",
    "df_pmi_four = df_pmi_sod[df_pmi_sod.label == 4]\n",
    "print(df_pmi_four.shape)\n",
    "\n",
    "# keep only 1-3 quartiles \n",
    "df_pmi_one = df_pmi_one[df_pmi_one.img_pmi_days <=3].copy()\n",
    "print(df_pmi_one.shape)\n",
    "df_pmi_two = df_pmi_two[df_pmi_two.img_pmi_days <=57].copy()\n",
    "print(df_pmi_two.shape)\n",
    "df_pmi_three = df_pmi_three[df_pmi_three.img_pmi_days <=58].copy()\n",
    "print(df_pmi_three.shape)\n",
    "df_pmi_four = df_pmi_four[df_pmi_four.img_pmi_days <= 67].copy()\n",
    "print(df_pmi_four.shape)\n",
    "\n",
    "# concat into one df\n",
    "df_pmi_sod_filtered = pd.concat([df_pmi_one, df_pmi_two, df_pmi_three, df_pmi_four])\n",
    "print(df_pmi_sod_filtered.shape)"
   ]
  },
  {
   "cell_type": "code",
   "execution_count": 25,
   "metadata": {},
   "outputs": [
    {
     "data": {
      "text/plain": [
       "0.5205515218685217"
      ]
     },
     "execution_count": 25,
     "metadata": {},
     "output_type": "execute_result"
    }
   ],
   "source": [
    "# correlation using all quartiles\n",
    "df_pmi_sod['label'].corr(np.log10(df_pmi_sod['img_pmi_days']+1*(10**-4)))"
   ]
  },
  {
   "cell_type": "code",
   "execution_count": 24,
   "metadata": {},
   "outputs": [
    {
     "data": {
      "text/plain": [
       "0.591449049259131"
      ]
     },
     "execution_count": 24,
     "metadata": {},
     "output_type": "execute_result"
    }
   ],
   "source": [
    "# correlation using 1-3 quartiles\n",
    "df_pmi_sod_filtered['label'].corr(np.log10(df_pmi_sod_filtered['img_pmi_days']+1*(10**-4)))"
   ]
  },
  {
   "cell_type": "code",
   "execution_count": 26,
   "metadata": {},
   "outputs": [
    {
     "data": {
      "text/plain": [
       "<AxesSubplot: xlabel='img_pmi_days', ylabel='label'>"
      ]
     },
     "execution_count": 26,
     "metadata": {},
     "output_type": "execute_result"
    },
    {
     "data": {
      "image/png": "[encoded data removed]",
      "text/plain": [
       "<Figure size 640x480 with 1 Axes>"
      ]
     },
     "metadata": {},
     "output_type": "display_data"
    }
   ],
   "source": [
    "df_pmi_sod_filtered.plot.scatter(x = 'img_pmi_days', y = 'label', s = 100)"
   ]
  },
  {
   "cell_type": "code",
   "execution_count": null,
   "metadata": {},
   "outputs": [],
   "source": []
  }
 ],
 "metadata": {
  "kernelspec": {
   "display_name": "Python 3",
   "language": "python",
   "name": "python3"
  },
  "language_info": {
   "codemirror_mode": {
    "name": "ipython",
    "version": 3
   },
   "file_extension": ".py",
   "mimetype": "text/x-python",
   "name": "python",
   "nbconvert_exporter": "python",
   "pygments_lexer": "ipython3",
   "version": "3.8.10"
  }
 },
 "nbformat": 4,
 "nbformat_minor": 2
}
